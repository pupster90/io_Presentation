{
 "cells": [
  {
   "cell_type": "code",
   "execution_count": 1,
   "metadata": {},
   "outputs": [
    {
     "data": {
      "text/html": [
       "<script>var py = Jupyter.notebook.kernel</script>"
      ],
      "text/plain": [
       "<IPython.core.display.HTML object>"
      ]
     },
     "metadata": {},
     "output_type": "display_data"
    },
    {
     "data": {
      "text/html": [
       "<style>\n",
       "div.output_subarea {\n",
       "    padding: 0;\n",
       "}\n",
       "div.run_this_cell{\n",
       "    padding: 0;\n",
       "}\n",
       "</style>"
      ],
      "text/plain": [
       "<IPython.core.display.HTML object>"
      ]
     },
     "metadata": {},
     "output_type": "display_data"
    },
    {
     "data": {
      "text/html": [
       "<style>\n",
       "*{margin:0; padding:0;} html, body,              .container{margin:0;!important padding:0;!important}              .container { width:100% !important;}\n",
       "</style>"
      ],
      "text/plain": [
       "<IPython.core.display.HTML object>"
      ]
     },
     "metadata": {},
     "output_type": "display_data"
    },
    {
     "data": {
      "text/html": [
       "<style>\n",
       "div.text_cell.rendered { /* Customize text cells */\n",
       "    font-size:1.1em;\n",
       "    line-height:1.4em;\n",
       "}\n",
       "</style>"
      ],
      "text/plain": [
       "<IPython.core.display.HTML object>"
      ]
     },
     "metadata": {},
     "output_type": "display_data"
    },
    {
     "data": {
      "text/html": [
       "<style>\n",
       "#notebook-container {\n",
       "    box-shadow: 0px 0px 0px 0px rgba(87, 87, 87, 0.2);\n",
       "}\n",
       "div#notebook {\n",
       "    background-color: White;\n",
       "}\n",
       ".end_space {\n",
       "    background-color: White;\n",
       "}\n",
       "</style>"
      ],
      "text/plain": [
       "<IPython.core.display.HTML object>"
      ]
     },
     "metadata": {},
     "output_type": "display_data"
    },
    {
     "data": {
      "text/html": [
       "<style>\n",
       ".input_prompt {\n",
       "    margin:0;\n",
       "    padding:0;\n",
       "    min-width: 0ex;\n",
       "    font-size:.7em;\n",
       "}\n",
       ".prompt {\n",
       "    min-width: 2vw;\n",
       "}\n",
       "div.input_prompt bdi {\n",
       "    display: none;\n",
       "}\n",
       "div.input_prompt i {\n",
       "    font-size: 2em;\n",
       "    opacity: 0.7;\n",
       "}\n",
       "\n",
       "div.output_subarea { /* Makes html output width larger */\n",
       "    max-width: 100%\n",
       "}\n",
       "</style>"
      ],
      "text/plain": [
       "<IPython.core.display.HTML object>"
      ]
     },
     "metadata": {},
     "output_type": "display_data"
    },
    {
     "data": {
      "application/javascript": [
       "\n",
       "// Movement between Cells\n",
       "Jupyter.keyboard_manager.command_shortcuts.add_shortcut('-', 'jupyter-notebook:select-previous-cell');\n",
       "Jupyter.keyboard_manager.command_shortcuts.add_shortcut('=', 'jupyter-notebook:select-next-cell');\n",
       "Jupyter.keyboard_manager.command_shortcuts.add_shortcut('shift--', 'jupyter-notebook:extend-selection-above');\n",
       "Jupyter.keyboard_manager.command_shortcuts.add_shortcut('shift-=', 'jupyter-notebook:extend-selection-below');\n",
       "Jupyter.keyboard_manager.command_shortcuts.add_shortcut('alt--', 'jupyter-notebook:move-selection-up');\n",
       "Jupyter.keyboard_manager.command_shortcuts.add_shortcut('alt-=', 'jupyter-notebook:move-selection-down');\n",
       "\n",
       "// Controls Collapssing\n",
       "Jupyter.keyboard_manager.command_shortcuts.add_shortcut(']', 'collapsible_headings:uncollapse_heading');\n",
       "Jupyter.keyboard_manager.command_shortcuts.add_shortcut('[', 'collapsible_headings:collapse_heading');\n",
       "Jupyter.keyboard_manager.command_shortcuts.add_shortcut('shift-]', 'collapsible_headings:uncollapse_all_headings');\n",
       "Jupyter.keyboard_manager.command_shortcuts.add_shortcut('shift-[', 'collapsible_headings:collapse_all_headings');\n",
       "\n",
       "// SKETCHY ONE // Entre command mode\n",
       "Jupyter.keyboard_manager.edit_shortcuts.add_shortcut('shift-backspace', 'jupyter-notebook:enter-command-mode');\n"
      ],
      "text/plain": [
       "<IPython.core.display.Javascript object>"
      ]
     },
     "metadata": {},
     "output_type": "display_data"
    },
    {
     "data": {
      "text/html": [
       "<style>\n",
       "body {\n",
       "    -webkit-overflow-scrolling: touch;\n",
       "}\n",
       "</style>"
      ],
      "text/plain": [
       "<IPython.core.display.HTML object>"
      ]
     },
     "metadata": {},
     "output_type": "display_data"
    },
    {
     "data": {
      "text/html": [
       "<style>\n",
       "div.run_this_cell i {\n",
       "    font-size: 2em;\n",
       "    opacity: 0.7;\n",
       "}\n",
       "</style>"
      ],
      "text/plain": [
       "<IPython.core.display.HTML object>"
      ]
     },
     "metadata": {},
     "output_type": "display_data"
    }
   ],
   "source": [
    "run \".default.ipynb\""
   ]
  },
  {
   "cell_type": "markdown",
   "metadata": {},
   "source": [
    "**<font color=\"red\">Note :</font>** Before we start, in the *options* at the top of this screen <font color=\"blue\">click</font> the `cell` option and then <font color=\"blue\">click</font> `Run All`"
   ]
  },
  {
   "cell_type": "markdown",
   "metadata": {},
   "source": [
    "<br>\n",
    "<font size=12 face=\"Georgia\"> Welcome to io!</font>"
   ]
  },
  {
   "cell_type": "markdown",
   "metadata": {},
   "source": [
    "> <font size=5> **<font color=\"magenta\">io : </font>** *<font color=\"gray\">\"where everything is one\"</font>*"
   ]
  },
  {
   "cell_type": "markdown",
   "metadata": {},
   "source": [
    "**What is io?**\n",
    "\n",
    "**<font color=\"magenta\">io</font>** is a new computing environment for the ideker lab! It's goal is to:\n"
   ]
  },
  {
   "cell_type": "markdown",
   "metadata": {},
   "source": [
    "> **1. Make scientific computing simple<br>2. Make sharing ideas easy<br>3. Let people work on any device**\n"
   ]
  },
  {
   "cell_type": "markdown",
   "metadata": {},
   "source": [
    " The [youtube video](www.google.com) below gives a brief overview of what is **<font color=\"magenta\">io :</font>**"
   ]
  },
  {
   "cell_type": "code",
   "execution_count": 2,
   "metadata": {
    "code_folding": [
     0
    ]
   },
   "outputs": [
    {
     "data": {
      "text/html": [
       "\n",
       "<h1 style=\"color:red\">Add Real Video!</h1>\n",
       "<div class=\"row\"><div class=\"col-xs-12 col-md-offset-3 col-md-6\">\n",
       "<div class=\"embed-responsive embed-responsive-16by9\">\n",
       "  <iframe class=\"embed-responsive-item\" \n",
       "  src='https://www.youtube.com/embed/p34OR7IVZiE'></iframe></div>\n",
       "</div></div>\n"
      ],
      "text/plain": [
       "<IPython.core.display.HTML object>"
      ]
     },
     "metadata": {},
     "output_type": "display_data"
    }
   ],
   "source": [
    "# Code creates youtube video\n",
    "display(HTML(\"\"\"\n",
    "<h1 style=\"color:red\">Add Real Video!</h1>\n",
    "<div class=\"row\"><div class=\"col-xs-12 col-md-offset-3 col-md-6\">\n",
    "<div class=\"embed-responsive embed-responsive-16by9\">\n",
    "  <iframe class=\"embed-responsive-item\" \n",
    "  src='https://www.youtube.com/embed/p34OR7IVZiE'></iframe></div>\n",
    "</div></div>\n",
    "\"\"\"))"
   ]
  },
  {
   "cell_type": "markdown",
   "metadata": {
    "heading_collapsed": true
   },
   "source": [
    "# More  info about **<font color=\"magenta\">io : </font>**"
   ]
  },
  {
   "cell_type": "markdown",
   "metadata": {
    "hidden": true
   },
   "source": [
    "**What's with the name?**\n",
    "\n",
    "**<font color=\"magenta\">io</font>** stands for **_[Ideker](https://medschool.ucsd.edu/som/medicine/research/labs/ideker/people/Pages/trey-ideker.aspx) Online_**\n",
    "\n",
    "**<font color=\"magenta\">io</font>** is also a moon of **<font color=\"orange\">Jupyter</font>**\n",
    "\n",
    "\n",
    "**<font color=\"magenta\">io</font>** is also a **<font color=\"red\">lover</font>** of *Zeus*\n"
   ]
  },
  {
   "cell_type": "markdown",
   "metadata": {
    "cell_style": "center",
    "hidden": true
   },
   "source": [
    "<img class=\"pull-left\" width=\"300\" src=\"https://sos.noaa.gov/ftp_mirror/astronomy/io/original/media/thumbnail_big.jpg\">\n",
    "<p class=\"pull-left\" style=\"padding:50px\"> </p>\n",
    "<img class=\"pull-left\" width=\"300\" src=\"https://blog.thedataincubator.com/wp-content/uploads/2017/01/jupyter-logo-300x298.png\">\n",
    "<p class=\"pull-left\" style=\"padding:50px\"> </p>\n",
    "<img class=\"pull-left\" width=\"250\" src=\"https://upload.wikimedia.org/wikipedia/commons/thumb/1/18/Paris_Bordone_-_Giove_e_Io_-_Kunstmuseum%2C_G%C3%B6teborg.jpg/220px-Paris_Bordone_-_Giove_e_Io_-_Kunstmuseum%2C_G%C3%B6teborg.jpg\">"
   ]
  },
  {
   "cell_type": "markdown",
   "metadata": {
    "hidden": true
   },
   "source": [
    "**<font color=\"magenta\">io</font>** is made for **made for everyone**.\n",
    "* <font color=\"blue\">Computational biologists</font> can use **<font color=\"magenta\">io</font>** to write *better* code\n",
    "* <font color=\"blue\">Wet lab biologists</font> can use **<font color=\"magenta\">io</font>** to create beautiful *interactive* graphs in papers and presentations"
   ]
  },
  {
   "cell_type": "markdown",
   "metadata": {
    "hidden": true
   },
   "source": [
    "<font color=\"red\" size=\"5\">Add Example Graph</font>"
   ]
  },
  {
   "cell_type": "markdown",
   "metadata": {
    "hidden": true
   },
   "source": [
    "You can even embed an <font color=\"blue\">entire program</font> inside a presentation!"
   ]
  },
  {
   "cell_type": "markdown",
   "metadata": {
    "hidden": true
   },
   "source": [
    "<font color=\"red\" size=\"5\">Add Example Graph</font>"
   ]
  },
  {
   "cell_type": "markdown",
   "metadata": {
    "hidden": true
   },
   "source": [
    "<font color=\"red\">Enough Talk,</font> lets see what **<font color=\"magenta\">io</font>** *really is!*"
   ]
  },
  {
   "cell_type": "markdown",
   "metadata": {},
   "source": [
    "# Start using **<font color=\"magenta\">io : </font>**"
   ]
  },
  {
   "cell_type": "markdown",
   "metadata": {},
   "source": [
    "Ready to try out  **<font color=\"magenta\">io?</font>**"
   ]
  },
  {
   "cell_type": "markdown",
   "metadata": {},
   "source": [
    "Setup is a breeze! Just click the <font color=\"green\">Start Button</font> to setup everything!\n",
    "\n",
    "**<font color=\"red\">Note : </font>** These changes don't take place immediately you have to wait for **<font color=\"magenta\">io</font>** to reset. This will usually take **1-2 hours.**\n",
    "\n",
    "**<font color=\"red\">Another Note : </font>** You can always come back and click the <font color=\"green\">Start Button</font> again to **reset your computer,** however, this will <font color=\"red\">delete your files!</font>"
   ]
  },
  {
   "cell_type": "code",
   "execution_count": 3,
   "metadata": {},
   "outputs": [
    {
     "data": {
      "application/vnd.jupyter.widget-view+json": {
       "model_id": "3b845a2533e14d0fbf1fea07b3dd8c5c",
       "version_major": 2,
       "version_minor": 0
      },
      "text/plain": [
       "Button(button_style='success', description='start', style=ButtonStyle())"
      ]
     },
     "metadata": {},
     "output_type": "display_data"
    },
    {
     "name": "stdout",
     "output_type": "stream",
     "text": [
      "Cloning into 'Cytoscape'...\n",
      "remote: Counting objects: 14, done.\u001b[K\n",
      "remote: Compressing objects: 100% (8/8), done.\u001b[K\n",
      "remote: Total 14 (delta 6), reused 14 (delta 6), pack-reused 0\u001b[K\n",
      "Unpacking objects: 100% (14/14), done.\n",
      "Cloning into 'Setup_Notebook'...\n",
      "remote: Counting objects: 10, done.\u001b[K\n",
      "remote: Compressing objects: 100% (8/8), done.\u001b[K\n",
      "remote: Total 10 (delta 2), reused 10 (delta 2), pack-reused 0\u001b[K\n",
      "Unpacking objects: 100% (10/10), done.\n",
      "Cloning into 'Ideker_Online'...\n",
      "remote: Counting objects: 11, done.\u001b[K\n",
      "remote: Compressing objects: 100% (8/8), done.\u001b[K\n",
      "remote: Total 11 (delta 3), reused 10 (delta 2), pack-reused 0\u001b[K\n",
      "Unpacking objects: 100% (11/11), done.\n",
      "Cloning into 'Public_Profile'...\n",
      "remote: Counting objects: 5, done.\u001b[K\n",
      "remote: Compressing objects: 100% (5/5), done.\u001b[K\n",
      "remote: Total 5 (delta 0), reused 5 (delta 0), pack-reused 0\u001b[K\n",
      "Unpacking objects: 100% (5/5), done.\n",
      "Cloning into 'My_First_Research_Paper'...\n",
      "remote: Counting objects: 10, done.\u001b[K\n",
      "remote: Compressing objects: 100% (6/6), done.\u001b[K\n",
      "remote: Total 10 (delta 4), reused 10 (delta 4), pack-reused 0\u001b[K\n",
      "Unpacking objects: 100% (10/10), done.\n"
     ]
    }
   ],
   "source": [
    "setup_btn = Button(description=\"start\", button_style=\"Success\")\n",
    "setup_btn"
   ]
  },
  {
   "cell_type": "code",
   "execution_count": 7,
   "metadata": {},
   "outputs": [],
   "source": [
    "def setupIO(b):\n",
    "    userFiles()\n",
    "    jupyterFiles()\n",
    "    print(\"\\n Finished! \")\n",
    "setup_btn.on_click( setupIO )"
   ]
  },
  {
   "cell_type": "markdown",
   "metadata": {},
   "source": [
    "# <font color=\"green\">Start</font> Runs the Code Below \n",
    "\n",
    "    You don't need to understand this"
   ]
  },
  {
   "cell_type": "markdown",
   "metadata": {},
   "source": [
    "Create the user's folders <font color=\"blue\">Apps, Downloads, Private, Public</font>.\n",
    "* **Add** <font color=\"magenta\">Cytoscape</font> and <font color=\"magenta\">Ideker_Online</font> to <font color=\"blue\">Apps</font>\n",
    "* **Add** <font color=\"magenta\">Public_Profile</font> and <font color=\"magenta\">My_First_Research_Paper</font> to <font color=\"blue\">Public</font>."
   ]
  },
  {
   "cell_type": "code",
   "execution_count": 5,
   "metadata": {},
   "outputs": [],
   "source": [
    "def userFiles():\n",
    "    !cd && rm -rf Apps Downloads Public Private      #<-- Delete old folders\n",
    "    !cd && mkdir Apps Downloads Private Public       #<-- Create folders\n",
    "    # Create user's starting Apps & Files\n",
    "    !cd ~/Apps && git clone https://github.com/pupster90/Cytoscape.git\n",
    "    !cd ~/Apps && git clone https://github.com/pupster90/Setup_Notebook.git\n",
    "    !cd ~/Apps && git clone https://github.com/pupster90/Ideker_Online.git\n",
    "    !cd ~/Public && git clone https://github.com/pupster90/Public_Profile.git\n",
    "    !cd ~/Public && git clone https://github.com/pupster90/My_First_Research_Paper.git"
   ]
  },
  {
   "cell_type": "markdown",
   "metadata": {},
   "source": [
    "Setup the hidden <font color=\"orange\">Jupyter</font> and <font color=\"orange\">Javasctip</font> files."
   ]
  },
  {
   "cell_type": "code",
   "execution_count": 6,
   "metadata": {},
   "outputs": [],
   "source": [
    "def jupyterFiles():\n",
    "    !cd && rm -rf .jupyter .js_files\n",
    "    !cp -r ~/welcome_to_io/.js_files ~/.js_files\n",
    "    !cp -r ~/welcome_to_io/.jupyter ~/.jupyter"
   ]
  },
  {
   "cell_type": "code",
   "execution_count": null,
   "metadata": {},
   "outputs": [],
   "source": [
    "\n",
    "\n",
    "\n",
    "\n"
   ]
  }
 ],
 "metadata": {
  "hide_input": false,
  "kernelspec": {
   "display_name": "Python 3",
   "language": "python",
   "name": "python3"
  },
  "language_info": {
   "codemirror_mode": {
    "name": "ipython",
    "version": 3
   },
   "file_extension": ".py",
   "mimetype": "text/x-python",
   "name": "python",
   "nbconvert_exporter": "python",
   "pygments_lexer": "ipython3",
   "version": "3.6.3"
  },
  "toc": {
   "base_numbering": 1,
   "nav_menu": {},
   "number_sections": true,
   "sideBar": true,
   "skip_h1_title": false,
   "title_cell": "Table of Contents",
   "title_sidebar": "Contents",
   "toc_cell": false,
   "toc_position": {},
   "toc_section_display": true,
   "toc_window_display": false
  },
  "varInspector": {
   "cols": {
    "lenName": 16,
    "lenType": 16,
    "lenVar": 40
   },
   "kernels_config": {
    "python": {
     "delete_cmd_postfix": "",
     "delete_cmd_prefix": "del ",
     "library": "var_list.py",
     "varRefreshCmd": "print(var_dic_list())"
    },
    "r": {
     "delete_cmd_postfix": ") ",
     "delete_cmd_prefix": "rm(",
     "library": "var_list.r",
     "varRefreshCmd": "cat(var_dic_list()) "
    }
   },
   "types_to_exclude": [
    "module",
    "function",
    "builtin_function_or_method",
    "instance",
    "_Feature"
   ],
   "window_display": false
  }
 },
 "nbformat": 4,
 "nbformat_minor": 2
}
